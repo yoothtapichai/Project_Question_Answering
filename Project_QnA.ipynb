{
  "nbformat": 4,
  "nbformat_minor": 0,
  "metadata": {
    "colab": {
      "name": "Project_Web_yes_no_v_2_0_2.ipynb",
      "provenance": [],
      "collapsed_sections": []
    },
    "kernelspec": {
      "name": "python3",
      "display_name": "Python 3"
    }
  },
  "cells": [
    {
      "cell_type": "code",
      "metadata": {
        "id": "zGmkolK5Cu_X",
        "colab_type": "code",
        "outputId": "c765c39d-36b1-4027-ffa7-364d00e99581",
        "colab": {
          "base_uri": "https://localhost:8080/",
          "height": 124
        }
      },
      "source": [
        "from google.colab import drive\n",
        "drive.mount('/content/drive')"
      ],
      "execution_count": 2,
      "outputs": [
        {
          "output_type": "stream",
          "text": [
            "Go to this URL in a browser: https://accounts.google.com/o/oauth2/auth?client_id=947318989803-6bn6qk8qdgf4n4g3pfee6491hc0brc4i.apps.googleusercontent.com&redirect_uri=urn%3aietf%3awg%3aoauth%3a2.0%3aoob&response_type=code&scope=email%20https%3a%2f%2fwww.googleapis.com%2fauth%2fdocs.test%20https%3a%2f%2fwww.googleapis.com%2fauth%2fdrive%20https%3a%2f%2fwww.googleapis.com%2fauth%2fdrive.photos.readonly%20https%3a%2f%2fwww.googleapis.com%2fauth%2fpeopleapi.readonly\n",
            "\n",
            "Enter your authorization code:\n",
            "··········\n",
            "Mounted at /content/drive\n"
          ],
          "name": "stdout"
        }
      ]
    },
    {
      "cell_type": "code",
      "metadata": {
        "id": "dAS6tTCMFAr0",
        "colab_type": "code",
        "colab": {}
      },
      "source": [
        "%mkdir templates -p"
      ],
      "execution_count": 0,
      "outputs": []
    },
    {
      "cell_type": "code",
      "metadata": {
        "id": "ulrhDx7yCosD",
        "colab_type": "code",
        "outputId": "6eb37758-5fc1-49f8-c2a5-fb64072f4aad",
        "colab": {
          "base_uri": "https://localhost:8080/",
          "height": 35
        }
      },
      "source": [
        "%%writefile templates/index.html\n",
        "<!DOCTYPE html>\n",
        "<html lang=\"en\">\n",
        "\n",
        "<head>\n",
        "    <meta charset=\"UTF-8\">\n",
        "    \n",
        "    <meta name=\"viewport\" content=\"width=device-width, initial-scale=1, shrink-to-fit=no\">\n",
        "\n",
        "    <title>Document</title>\n",
        "    \n",
        "    <link rel=\"stylesheet\" href=\"https://stackpath.bootstrapcdn.com/bootstrap/4.4.1/css/bootstrap.min.css\" integrity=\"sha384-Vkoo8x4CGsO3+Hhxv8T/Q5PaXtkKtu6ug5TOeNV6gBiFeWPGFN9MuhOf23Q9Ifjh\" crossorigin=\"anonymous\">\n",
        "    \n",
        "    <script src=\"https://code.jquery.com/jquery-3.4.1.slim.min.js\" integrity=\"sha384-J6qa4849blE2+poT4WnyKhv5vZF5SrPo0iEjwBvKU7imGFAV0wwj1yYfoRSJoZ+n\" crossorigin=\"anonymous\"></script>\n",
        "    <script src=\"https://cdn.jsdelivr.net/npm/popper.js@1.16.0/dist/umd/popper.min.js\" integrity=\"sha384-Q6E9RHvbIyZFJoft+2mJbHaEWldlvI9IOYy5n3zV9zzTtmI3UksdQRVvoxMfooAo\" crossorigin=\"anonymous\"></script>\n",
        "    <script src=\"https://stackpath.bootstrapcdn.com/bootstrap/4.4.1/js/bootstrap.min.js\" integrity=\"sha384-wfSDF2E50Y2D1uUdj0O3uMBJnjuUD4Ih7YwaYd1iqfktj0Uod8GCExl3Og8ifwB6\" crossorigin=\"anonymous\"></script>\n",
        "\n",
        "    <style>\n",
        "        input {\n",
        "            margin-bottom: 30px;\n",
        "        }\n",
        "    </style>\n",
        "\n",
        "\n",
        "</head>\n",
        "\n",
        "<body>\n",
        "    <div class=\"row\">\n",
        "        <div class=\"col-md-8 m-auto\">            \n",
        "            <br>\n",
        "            <h1 aline=\"center\">โปรแกรมถามตอบจากคลังข้อมูลวิกิพีเดียภาษาไทย</h1><br>\n",
        "            <form action=\"{{ url_for('addRegion') }}\" method=\"post\" >\n",
        "               \n",
        "                    <span class=\"badge badge-secondary\">  Question ใส่คำถามภาษาไทยที่นี่  </span>\n",
        "                    <input type=\"text\"  name=\"question\" class=\"form-control\">\n",
        "                    <input type=\"submit\" class=\"btn btn-success\" value=\"ส่งคำถาม\">\n",
        "            </form>\n",
        "\n",
        "            <div class=\"container\"> \n",
        "                   \n",
        "                    <br>\n",
        "                    <div class=\"col-md-12 \">\n",
        "                       {% if data[1] != \"\" and data[0] != \"\" %}\n",
        "                        <span class=\"badge badge-secondary\">  คำถาม</span><br>\n",
        "                        <span > {{ data[1] }} </span><br><br>\n",
        "                                       \n",
        "                        \n",
        "                        <span class=\"badge badge-secondary\"> คำตอบ </span><br>\n",
        "                        <span> {{ data[0]}} </span><br>\n",
        "                         {% endif %}\n",
        "                   \n",
        "                </div>\n",
        "            </div>\n",
        "\n",
        "\n",
        "        </div>\n",
        "    </div>\n",
        "\n",
        "</body>\n",
        "\n",
        "</html>"
      ],
      "execution_count": 0,
      "outputs": [
        {
          "output_type": "stream",
          "text": [
            "Overwriting templates/index.html\n"
          ],
          "name": "stdout"
        }
      ]
    },
    {
      "cell_type": "code",
      "metadata": {
        "id": "CuSqZJR3Lry2",
        "colab_type": "code",
        "outputId": "835bb7a3-aefa-4fce-f9e8-e2a307264998",
        "colab": {
          "base_uri": "https://localhost:8080/",
          "height": 1000
        }
      },
      "source": [
        "!pip install flask \n",
        "!pip install  pythainlp\n",
        "!pip install flask-ngrok\n",
        "!pip install  rank_bm25\n",
        "!pip install deeppavlov\n",
        "!python -m deeppavlov install squad_bert\n",
        "! wget https://raw.githubusercontent.com/deepmipt/DeepPavlov/squad_multilingual_configs/deeppavlov/configs/squad/squad_bert_multilingual_freezed_emb.json\n",
        "!pip install sklearn\n",
        "!pip install flask_ngrok"
      ],
      "execution_count": 0,
      "outputs": [
        {
          "output_type": "stream",
          "text": [
            "Requirement already satisfied: flask in /usr/local/lib/python3.6/dist-packages (1.1.1)\n",
            "Requirement already satisfied: click>=5.1 in /usr/local/lib/python3.6/dist-packages (from flask) (7.1.1)\n",
            "Requirement already satisfied: itsdangerous>=0.24 in /usr/local/lib/python3.6/dist-packages (from flask) (1.1.0)\n",
            "Requirement already satisfied: Jinja2>=2.10.1 in /usr/local/lib/python3.6/dist-packages (from flask) (2.11.1)\n",
            "Requirement already satisfied: Werkzeug>=0.15 in /usr/local/lib/python3.6/dist-packages (from flask) (1.0.0)\n",
            "Requirement already satisfied: MarkupSafe>=0.23 in /usr/local/lib/python3.6/dist-packages (from Jinja2>=2.10.1->flask) (1.1.1)\n",
            "Requirement already satisfied: pythainlp in /usr/local/lib/python3.6/dist-packages (2.1.4)\n",
            "Requirement already satisfied: tqdm>=4.1 in /usr/local/lib/python3.6/dist-packages (from pythainlp) (4.41.1)\n",
            "Requirement already satisfied: requests>=2.22.0 in /usr/local/lib/python3.6/dist-packages (from pythainlp) (2.22.0)\n",
            "Requirement already satisfied: tinydb>=3.0 in /usr/local/lib/python3.6/dist-packages (from pythainlp) (3.15.2)\n",
            "Requirement already satisfied: dill>=0.3.0 in /usr/local/lib/python3.6/dist-packages (from pythainlp) (0.3.1.1)\n",
            "Requirement already satisfied: nltk>=3.3 in /usr/local/lib/python3.6/dist-packages (from pythainlp) (3.4.5)\n",
            "Requirement already satisfied: idna<2.9,>=2.5 in /usr/local/lib/python3.6/dist-packages (from requests>=2.22.0->pythainlp) (2.8)\n",
            "Requirement already satisfied: certifi>=2017.4.17 in /usr/local/lib/python3.6/dist-packages (from requests>=2.22.0->pythainlp) (2019.11.28)\n",
            "Requirement already satisfied: urllib3!=1.25.0,!=1.25.1,<1.26,>=1.21.1 in /usr/local/lib/python3.6/dist-packages (from requests>=2.22.0->pythainlp) (1.24.3)\n",
            "Requirement already satisfied: chardet<3.1.0,>=3.0.2 in /usr/local/lib/python3.6/dist-packages (from requests>=2.22.0->pythainlp) (3.0.4)\n",
            "Requirement already satisfied: six in /usr/local/lib/python3.6/dist-packages (from nltk>=3.3->pythainlp) (1.12.0)\n",
            "Requirement already satisfied: flask-ngrok in /usr/local/lib/python3.6/dist-packages (0.0.25)\n",
            "Requirement already satisfied: requests in /usr/local/lib/python3.6/dist-packages (from flask-ngrok) (2.22.0)\n",
            "Requirement already satisfied: Flask>=0.8 in /usr/local/lib/python3.6/dist-packages (from flask-ngrok) (1.1.1)\n",
            "Requirement already satisfied: chardet<3.1.0,>=3.0.2 in /usr/local/lib/python3.6/dist-packages (from requests->flask-ngrok) (3.0.4)\n",
            "Requirement already satisfied: urllib3!=1.25.0,!=1.25.1,<1.26,>=1.21.1 in /usr/local/lib/python3.6/dist-packages (from requests->flask-ngrok) (1.24.3)\n",
            "Requirement already satisfied: idna<2.9,>=2.5 in /usr/local/lib/python3.6/dist-packages (from requests->flask-ngrok) (2.8)\n",
            "Requirement already satisfied: certifi>=2017.4.17 in /usr/local/lib/python3.6/dist-packages (from requests->flask-ngrok) (2019.11.28)\n",
            "Requirement already satisfied: itsdangerous>=0.24 in /usr/local/lib/python3.6/dist-packages (from Flask>=0.8->flask-ngrok) (1.1.0)\n",
            "Requirement already satisfied: Werkzeug>=0.15 in /usr/local/lib/python3.6/dist-packages (from Flask>=0.8->flask-ngrok) (1.0.0)\n",
            "Requirement already satisfied: Jinja2>=2.10.1 in /usr/local/lib/python3.6/dist-packages (from Flask>=0.8->flask-ngrok) (2.11.1)\n",
            "Requirement already satisfied: click>=5.1 in /usr/local/lib/python3.6/dist-packages (from Flask>=0.8->flask-ngrok) (7.1.1)\n",
            "Requirement already satisfied: MarkupSafe>=0.23 in /usr/local/lib/python3.6/dist-packages (from Jinja2>=2.10.1->Flask>=0.8->flask-ngrok) (1.1.1)\n",
            "Requirement already satisfied: rank_bm25 in /usr/local/lib/python3.6/dist-packages (0.2)\n",
            "Requirement already satisfied: numpy in /usr/local/lib/python3.6/dist-packages (from rank_bm25) (1.18.0)\n",
            "Requirement already satisfied: deeppavlov in /usr/local/lib/python3.6/dist-packages (0.8.0)\n",
            "Requirement already satisfied: scipy==1.4.1 in /usr/local/lib/python3.6/dist-packages (from deeppavlov) (1.4.1)\n",
            "Requirement already satisfied: pyopenssl==19.1.0 in /usr/local/lib/python3.6/dist-packages (from deeppavlov) (19.1.0)\n",
            "Requirement already satisfied: fastapi==0.47.1 in /usr/local/lib/python3.6/dist-packages (from deeppavlov) (0.47.1)\n",
            "Requirement already satisfied: tqdm==4.41.1 in /usr/local/lib/python3.6/dist-packages (from deeppavlov) (4.41.1)\n",
            "Requirement already satisfied: fuzzywuzzy==0.17.0 in /usr/local/lib/python3.6/dist-packages (from deeppavlov) (0.17.0)\n",
            "Requirement already satisfied: pymorphy2==0.8 in /usr/local/lib/python3.6/dist-packages (from deeppavlov) (0.8)\n",
            "Requirement already satisfied: pytelegrambotapi==3.6.7 in /usr/local/lib/python3.6/dist-packages (from deeppavlov) (3.6.7)\n",
            "Requirement already satisfied: aio-pika==6.4.1 in /usr/local/lib/python3.6/dist-packages (from deeppavlov) (6.4.1)\n",
            "Requirement already satisfied: rusenttokenize==0.0.5 in /usr/local/lib/python3.6/dist-packages (from deeppavlov) (0.0.5)\n",
            "Requirement already satisfied: h5py==2.10.0 in /usr/local/lib/python3.6/dist-packages (from deeppavlov) (2.10.0)\n",
            "Requirement already satisfied: numpy==1.18.0 in /usr/local/lib/python3.6/dist-packages (from deeppavlov) (1.18.0)\n",
            "Requirement already satisfied: overrides==2.7.0 in /usr/local/lib/python3.6/dist-packages (from deeppavlov) (2.7.0)\n",
            "Requirement already satisfied: uvicorn==0.11.1 in /usr/local/lib/python3.6/dist-packages (from deeppavlov) (0.11.1)\n",
            "Requirement already satisfied: pydantic==1.3 in /usr/local/lib/python3.6/dist-packages (from deeppavlov) (1.3)\n",
            "Requirement already satisfied: scikit-learn==0.21.2 in /usr/local/lib/python3.6/dist-packages (from deeppavlov) (0.21.2)\n",
            "Requirement already satisfied: nltk==3.4.5 in /usr/local/lib/python3.6/dist-packages (from deeppavlov) (3.4.5)\n",
            "Requirement already satisfied: pymorphy2-dicts-ru in /usr/local/lib/python3.6/dist-packages (from deeppavlov) (2.4.404381.4453942)\n",
            "Requirement already satisfied: Cython==0.29.14 in /usr/local/lib/python3.6/dist-packages (from deeppavlov) (0.29.14)\n",
            "Requirement already satisfied: requests==2.22.0 in /usr/local/lib/python3.6/dist-packages (from deeppavlov) (2.22.0)\n",
            "Requirement already satisfied: pandas==0.25.3 in /usr/local/lib/python3.6/dist-packages (from deeppavlov) (0.25.3)\n",
            "Requirement already satisfied: cryptography>=2.8 in /usr/local/lib/python3.6/dist-packages (from pyopenssl==19.1.0->deeppavlov) (2.8)\n",
            "Requirement already satisfied: six>=1.5.2 in /usr/local/lib/python3.6/dist-packages (from pyopenssl==19.1.0->deeppavlov) (1.12.0)\n",
            "Requirement already satisfied: starlette<=0.12.9,>=0.12.9 in /usr/local/lib/python3.6/dist-packages (from fastapi==0.47.1->deeppavlov) (0.12.9)\n",
            "Requirement already satisfied: docopt>=0.6 in /usr/local/lib/python3.6/dist-packages (from pymorphy2==0.8->deeppavlov) (0.6.2)\n",
            "Requirement already satisfied: pymorphy2-dicts<3.0,>=2.4 in /usr/local/lib/python3.6/dist-packages (from pymorphy2==0.8->deeppavlov) (2.4.393442.3710985)\n",
            "Requirement already satisfied: dawg-python>=0.7 in /usr/local/lib/python3.6/dist-packages (from pymorphy2==0.8->deeppavlov) (0.7.2)\n",
            "Requirement already satisfied: yarl in /usr/local/lib/python3.6/dist-packages (from aio-pika==6.4.1->deeppavlov) (1.4.2)\n",
            "Requirement already satisfied: aiormq<4,>=3.2.0 in /usr/local/lib/python3.6/dist-packages (from aio-pika==6.4.1->deeppavlov) (3.2.1)\n",
            "Requirement already satisfied: httptools==0.0.13; sys_platform != \"win32\" and sys_platform != \"cygwin\" and platform_python_implementation != \"pypy\" in /usr/local/lib/python3.6/dist-packages (from uvicorn==0.11.1->deeppavlov) (0.0.13)\n",
            "Requirement already satisfied: websockets==8.* in /usr/local/lib/python3.6/dist-packages (from uvicorn==0.11.1->deeppavlov) (8.1)\n",
            "Requirement already satisfied: uvloop>=0.14.0; sys_platform != \"win32\" and sys_platform != \"cygwin\" and platform_python_implementation != \"pypy\" in /usr/local/lib/python3.6/dist-packages (from uvicorn==0.11.1->deeppavlov) (0.14.0)\n",
            "Requirement already satisfied: h11<0.10,>=0.8 in /usr/local/lib/python3.6/dist-packages (from uvicorn==0.11.1->deeppavlov) (0.9.0)\n",
            "Requirement already satisfied: click==7.* in /usr/local/lib/python3.6/dist-packages (from uvicorn==0.11.1->deeppavlov) (7.1.1)\n",
            "Requirement already satisfied: dataclasses>=0.6; python_version < \"3.7\" in /usr/local/lib/python3.6/dist-packages (from pydantic==1.3->deeppavlov) (0.7)\n",
            "Requirement already satisfied: joblib>=0.11 in /usr/local/lib/python3.6/dist-packages (from scikit-learn==0.21.2->deeppavlov) (0.14.1)\n",
            "Requirement already satisfied: certifi>=2017.4.17 in /usr/local/lib/python3.6/dist-packages (from requests==2.22.0->deeppavlov) (2019.11.28)\n",
            "Requirement already satisfied: urllib3!=1.25.0,!=1.25.1,<1.26,>=1.21.1 in /usr/local/lib/python3.6/dist-packages (from requests==2.22.0->deeppavlov) (1.24.3)\n",
            "Requirement already satisfied: idna<2.9,>=2.5 in /usr/local/lib/python3.6/dist-packages (from requests==2.22.0->deeppavlov) (2.8)\n",
            "Requirement already satisfied: chardet<3.1.0,>=3.0.2 in /usr/local/lib/python3.6/dist-packages (from requests==2.22.0->deeppavlov) (3.0.4)\n",
            "Requirement already satisfied: pytz>=2017.2 in /usr/local/lib/python3.6/dist-packages (from pandas==0.25.3->deeppavlov) (2018.9)\n",
            "Requirement already satisfied: python-dateutil>=2.6.1 in /usr/local/lib/python3.6/dist-packages (from pandas==0.25.3->deeppavlov) (2.8.1)\n",
            "Requirement already satisfied: cffi!=1.11.3,>=1.8 in /usr/local/lib/python3.6/dist-packages (from cryptography>=2.8->pyopenssl==19.1.0->deeppavlov) (1.14.0)\n",
            "Requirement already satisfied: multidict>=4.0 in /usr/local/lib/python3.6/dist-packages (from yarl->aio-pika==6.4.1->deeppavlov) (4.7.5)\n",
            "Requirement already satisfied: pamqp==2.3.0 in /usr/local/lib/python3.6/dist-packages (from aiormq<4,>=3.2.0->aio-pika==6.4.1->deeppavlov) (2.3.0)\n",
            "Requirement already satisfied: pycparser in /usr/local/lib/python3.6/dist-packages (from cffi!=1.11.3,>=1.8->cryptography>=2.8->pyopenssl==19.1.0->deeppavlov) (2.20)\n",
            "2020-03-25 06:54:49.387 INFO in 'deeppavlov.core.common.file'['file'] at line 30: Interpreting 'squad_bert' as '/usr/local/lib/python3.6/dist-packages/deeppavlov/configs/squad/squad_bert.json'\n",
            "Requirement already satisfied: tensorflow==1.15.2 in /usr/local/lib/python3.6/dist-packages (1.15.2)\n",
            "Requirement already satisfied: wrapt>=1.11.1 in /usr/local/lib/python3.6/dist-packages (from tensorflow==1.15.2) (1.12.1)\n",
            "Requirement already satisfied: six>=1.10.0 in /usr/local/lib/python3.6/dist-packages (from tensorflow==1.15.2) (1.12.0)\n",
            "Requirement already satisfied: numpy<2.0,>=1.16.0 in /usr/local/lib/python3.6/dist-packages (from tensorflow==1.15.2) (1.18.0)\n",
            "Requirement already satisfied: tensorboard<1.16.0,>=1.15.0 in /tensorflow-1.15.0/python3.6 (from tensorflow==1.15.2) (1.15.0)\n",
            "Requirement already satisfied: wheel>=0.26; python_version >= \"3\" in /usr/local/lib/python3.6/dist-packages (from tensorflow==1.15.2) (0.34.2)\n",
            "Requirement already satisfied: keras-applications>=1.0.8 in /usr/local/lib/python3.6/dist-packages (from tensorflow==1.15.2) (1.0.8)\n",
            "Requirement already satisfied: tensorflow-estimator==1.15.1 in /tensorflow-1.15.0/python3.6 (from tensorflow==1.15.2) (1.15.1)\n",
            "Requirement already satisfied: gast==0.2.2 in /usr/local/lib/python3.6/dist-packages (from tensorflow==1.15.2) (0.2.2)\n",
            "Requirement already satisfied: opt-einsum>=2.3.2 in /usr/local/lib/python3.6/dist-packages (from tensorflow==1.15.2) (3.2.0)\n",
            "Requirement already satisfied: protobuf>=3.6.1 in /usr/local/lib/python3.6/dist-packages (from tensorflow==1.15.2) (3.10.0)\n",
            "Requirement already satisfied: absl-py>=0.7.0 in /usr/local/lib/python3.6/dist-packages (from tensorflow==1.15.2) (0.9.0)\n",
            "Requirement already satisfied: astor>=0.6.0 in /usr/local/lib/python3.6/dist-packages (from tensorflow==1.15.2) (0.8.1)\n",
            "Requirement already satisfied: grpcio>=1.8.6 in /usr/local/lib/python3.6/dist-packages (from tensorflow==1.15.2) (1.24.3)\n",
            "Requirement already satisfied: termcolor>=1.1.0 in /usr/local/lib/python3.6/dist-packages (from tensorflow==1.15.2) (1.1.0)\n",
            "Requirement already satisfied: google-pasta>=0.1.6 in /usr/local/lib/python3.6/dist-packages (from tensorflow==1.15.2) (0.2.0)\n",
            "Requirement already satisfied: keras-preprocessing>=1.0.5 in /usr/local/lib/python3.6/dist-packages (from tensorflow==1.15.2) (1.1.0)\n",
            "Requirement already satisfied: markdown>=2.6.8 in /usr/local/lib/python3.6/dist-packages (from tensorboard<1.16.0,>=1.15.0->tensorflow==1.15.2) (3.2.1)\n",
            "Requirement already satisfied: werkzeug>=0.11.15 in /usr/local/lib/python3.6/dist-packages (from tensorboard<1.16.0,>=1.15.0->tensorflow==1.15.2) (1.0.0)\n",
            "Requirement already satisfied: setuptools>=41.0.0 in /usr/local/lib/python3.6/dist-packages (from tensorboard<1.16.0,>=1.15.0->tensorflow==1.15.2) (46.0.0)\n",
            "Requirement already satisfied: h5py in /usr/local/lib/python3.6/dist-packages (from keras-applications>=1.0.8->tensorflow==1.15.2) (2.10.0)\n",
            "Collecting git+https://github.com/deepmipt/bert.git@feat/multi_gpu\n",
            "  Cloning https://github.com/deepmipt/bert.git (to revision feat/multi_gpu) to /tmp/pip-req-build-s7k6xl1y\n",
            "  Running command git clone -q https://github.com/deepmipt/bert.git /tmp/pip-req-build-s7k6xl1y\n",
            "  Running command git checkout -b feat/multi_gpu --track origin/feat/multi_gpu\n",
            "  Switched to a new branch 'feat/multi_gpu'\n",
            "  Branch 'feat/multi_gpu' set up to track remote branch 'feat/multi_gpu' from 'origin'.\n",
            "Requirement already satisfied (use --upgrade to upgrade): bert-dp==1.0 from git+https://github.com/deepmipt/bert.git@feat/multi_gpu in /usr/local/lib/python3.6/dist-packages\n",
            "Building wheels for collected packages: bert-dp\n",
            "  Building wheel for bert-dp (setup.py) ... \u001b[?25l\u001b[?25hdone\n",
            "  Created wheel for bert-dp: filename=bert_dp-1.0-cp36-none-any.whl size=23581 sha256=f25b6774b8646cabd38d23c751b2b3bbf61c319b7aa81609ccb41be77433f331\n",
            "  Stored in directory: /tmp/pip-ephem-wheel-cache-v7mgnnq9/wheels/1e/41/94/886107eaf932532594886fd8bfc9cb9d4db632e94add49d326\n",
            "Successfully built bert-dp\n",
            "--2020-03-25 06:54:58--  https://raw.githubusercontent.com/deepmipt/DeepPavlov/squad_multilingual_configs/deeppavlov/configs/squad/squad_bert_multilingual_freezed_emb.json\n",
            "Resolving raw.githubusercontent.com (raw.githubusercontent.com)... 151.101.0.133, 151.101.64.133, 151.101.128.133, ...\n",
            "Connecting to raw.githubusercontent.com (raw.githubusercontent.com)|151.101.0.133|:443... connected.\n",
            "HTTP request sent, awaiting response... 200 OK\n",
            "Length: 3538 (3.5K) [text/plain]\n",
            "Saving to: ‘squad_bert_multilingual_freezed_emb.json.2’\n",
            "\n",
            "squad_bert_multilin 100%[===================>]   3.46K  --.-KB/s    in 0s      \n",
            "\n",
            "2020-03-25 06:54:58 (84.5 MB/s) - ‘squad_bert_multilingual_freezed_emb.json.2’ saved [3538/3538]\n",
            "\n",
            "Requirement already satisfied: sklearn in /usr/local/lib/python3.6/dist-packages (0.0)\n",
            "Requirement already satisfied: scikit-learn in /usr/local/lib/python3.6/dist-packages (from sklearn) (0.21.2)\n",
            "Requirement already satisfied: joblib>=0.11 in /usr/local/lib/python3.6/dist-packages (from scikit-learn->sklearn) (0.14.1)\n",
            "Requirement already satisfied: scipy>=0.17.0 in /usr/local/lib/python3.6/dist-packages (from scikit-learn->sklearn) (1.4.1)\n",
            "Requirement already satisfied: numpy>=1.11.0 in /usr/local/lib/python3.6/dist-packages (from scikit-learn->sklearn) (1.18.0)\n",
            "Requirement already satisfied: flask_ngrok in /usr/local/lib/python3.6/dist-packages (0.0.25)\n",
            "Requirement already satisfied: requests in /usr/local/lib/python3.6/dist-packages (from flask_ngrok) (2.22.0)\n",
            "Requirement already satisfied: Flask>=0.8 in /usr/local/lib/python3.6/dist-packages (from flask_ngrok) (1.1.1)\n",
            "Requirement already satisfied: chardet<3.1.0,>=3.0.2 in /usr/local/lib/python3.6/dist-packages (from requests->flask_ngrok) (3.0.4)\n",
            "Requirement already satisfied: urllib3!=1.25.0,!=1.25.1,<1.26,>=1.21.1 in /usr/local/lib/python3.6/dist-packages (from requests->flask_ngrok) (1.24.3)\n",
            "Requirement already satisfied: idna<2.9,>=2.5 in /usr/local/lib/python3.6/dist-packages (from requests->flask_ngrok) (2.8)\n",
            "Requirement already satisfied: certifi>=2017.4.17 in /usr/local/lib/python3.6/dist-packages (from requests->flask_ngrok) (2019.11.28)\n",
            "Requirement already satisfied: itsdangerous>=0.24 in /usr/local/lib/python3.6/dist-packages (from Flask>=0.8->flask_ngrok) (1.1.0)\n",
            "Requirement already satisfied: Werkzeug>=0.15 in /usr/local/lib/python3.6/dist-packages (from Flask>=0.8->flask_ngrok) (1.0.0)\n",
            "Requirement already satisfied: click>=5.1 in /usr/local/lib/python3.6/dist-packages (from Flask>=0.8->flask_ngrok) (7.1.1)\n",
            "Requirement already satisfied: Jinja2>=2.10.1 in /usr/local/lib/python3.6/dist-packages (from Flask>=0.8->flask_ngrok) (2.11.1)\n",
            "Requirement already satisfied: MarkupSafe>=0.23 in /usr/local/lib/python3.6/dist-packages (from Jinja2>=2.10.1->Flask>=0.8->flask_ngrok) (1.1.1)\n"
          ],
          "name": "stdout"
        }
      ]
    },
    {
      "cell_type": "code",
      "metadata": {
        "id": "amn9eLAkOSde",
        "colab_type": "code",
        "outputId": "33849e50-4d2e-45c3-922c-e8e92ed141c1",
        "colab": {
          "base_uri": "https://localhost:8080/",
          "height": 106
        }
      },
      "source": [
        "from deeppavlov import build_model, configs\n",
        "\n",
        "model = build_model('./squad_bert_multilingual_freezed_emb.json', download=True)"
      ],
      "execution_count": 0,
      "outputs": [
        {
          "output_type": "stream",
          "text": [
            "2020-03-25 06:55:08.33 INFO in 'deeppavlov.download'['download'] at line 117: Skipped http://files.deeppavlov.ai/deeppavlov_data/bert/multi_cased_L-12_H-768_A-12.zip download because of matching hashes\n",
            "2020-03-25 06:55:10.128 INFO in 'deeppavlov.download'['download'] at line 117: Skipped http://files.deeppavlov.ai/deeppavlov_data/squad_bert_mult_freezed.tar.gz download because of matching hashes\n",
            "2020-03-25 06:55:32.770 INFO in 'deeppavlov.core.models.tf_model'['tf_model'] at line 51: [loading model from /root/.deeppavlov/models/squad_bert/model_multi_freezed]\n"
          ],
          "name": "stderr"
        },
        {
          "output_type": "stream",
          "text": [
            "INFO:tensorflow:Restoring parameters from /root/.deeppavlov/models/squad_bert/model_multi_freezed\n"
          ],
          "name": "stdout"
        }
      ]
    },
    {
      "cell_type": "code",
      "metadata": {
        "id": "uu6QqKCKLH0p",
        "colab_type": "code",
        "outputId": "68a5f3d5-1ccf-42a1-b8e3-ecc376e19a1e",
        "colab": {
          "base_uri": "https://localhost:8080/",
          "height": 504
        }
      },
      "source": [
        "\n",
        "\n",
        "from flask import Flask,render_template\n",
        "from flask import request\n",
        "from flask_ngrok import run_with_ngrok\n",
        "from rank_bm25 import BM25Okapi\n",
        "from pythainlp.tokenize import word_tokenize ,Tokenizer\n",
        "import pickle\n",
        "import glob\n",
        "import io\n",
        "import re\n",
        "import os\n",
        "import string\n",
        "from sklearn.metrics.pairwise import cosine_similarity\n",
        "from sklearn.feature_extraction.text import TfidfVectorizer\n",
        "\n",
        "\n",
        "\n",
        "#app = Flask(__name__)\n",
        "  # Start ngrok when app is run\n",
        "\n",
        "# for / root, return Hello Word\n",
        "\n",
        "app = Flask(__name__,template_folder='/content/templates')\n",
        "run_with_ngrok(app)\n",
        "@app.route(\"/\",methods=['get'])\n",
        "def test():\n",
        "\n",
        "  return render_template('index.html',data=[\"\",\"\"])\n",
        "  \n",
        "@app.route('/addRegion', methods=['post'])\n",
        "def addRegion():\n",
        "  with open('/content/drive/My Drive/Project-19/corpus.pickle', 'rb') as handle_corpus:\n",
        "    corpus = pickle.load(handle_corpus)\n",
        "\n",
        "  with open('/content/drive/My Drive/Project-19/process_doc_with_bm25.pickle', 'rb') as handle:\n",
        "    process_doc_with_bm25 = pickle.load(handle)\n",
        "  query = request.form['question'] #รับคำถาม\n",
        "  tokenized_query = word_tokenize(query, engine=\"newmm\")\n",
        "  topScore=process_doc_with_bm25.get_top_n(tokenized_query, corpus, n=2)\n",
        "  rr=topScore[0]\n",
        "  msg = re.sub(r'<.*?>','', rr)\n",
        "  data=msg.split(' ') #ตัดประโยค\n",
        "  data2=[]\n",
        "  x=0\n",
        "  num = len(data)\n",
        "  #print(\"\\n\",num)\n",
        "  for i in range(0,num):\n",
        "      #เก็บจำนวนของคำ\n",
        "      if i == 0:\n",
        "          data2.append(data[i])\n",
        "      if i!= 0 :\n",
        "          strr = []\n",
        "          strr = word_tokenize(data[i])\n",
        "          strrx = len(strr)\n",
        "          if strrx <= 3:\n",
        "              data2[len(data2)-1] = data2[len(data2)-1] + data[i]\n",
        "              # data2.append(strr)\n",
        "              # i=i+1\n",
        "          else :\n",
        "              if len(word_tokenize(data[i-1])) <=3 :\n",
        "                  data2.append(data[i-1]+ data[i])\n",
        "              else :\n",
        "                  data2.append(data[i])\n",
        "\n",
        "  # print(data2)\n",
        "\n",
        "  b=[]\n",
        "  b.append(query)\n",
        "  data_num=len(data2)\n",
        "  #print('data_num====',data_num)\n",
        "  for i in range(0,data_num):\n",
        "      b.append(data2[i])\n",
        "  #print(b)\n",
        "\n",
        "\n",
        "  tfidf_vectorizer = TfidfVectorizer()  #หา Tfidf\n",
        "  tfidf_matrix_b = tfidf_vectorizer.fit_transform(b) # ทำเวกเตอร์\n",
        "  cos_sim_b=cosine_similarity(tfidf_matrix_b[0], tfidf_matrix_b)\n",
        "  #print(cos_sim_b)\n",
        "\n",
        "  cos_sim_bx={}   # เก็บ id เอกสาร และ ค่า cosim\n",
        "\n",
        "  for i in range(1,data_num):\n",
        "      #print(cos_sim_b[0][i])\n",
        "      cos_sim_bx[cos_sim_b[0][i]]=[i]\n",
        "\n",
        "  mx = max(cos_sim_bx.keys())\n",
        "\n",
        "  # print('เอกสารที่มีความใกล้เคียงมากที่สุด คือไฟล์', cos_sim_bx[mx])\n",
        "\n",
        "\n",
        "  nn=['']\n",
        "  nnn=cos_sim_bx[mx]\n",
        "  # print(nnn[0])\n",
        "  c = nnn[0]\n",
        "  # print(b[c])\n",
        "  ans_ans=model([b[c]],[query])\n",
        "  #print(xxx[0])\n",
        "  #if xxx[0]!=nn:\n",
        "  answer=[]\n",
        "  qes_ans = []\n",
        "  word2 = ['ใช่หรือไม่']\n",
        "  cut_word2=Tokenizer(word2)\n",
        "  C_ansall = cut_word2.word_tokenize(query)\n",
        "  sum_word2 = 0\n",
        "  print(C_ansall)\n",
        "  for  i  in range(0,len(C_ansall)):\n",
        "    print(C_ansall[i])\n",
        "    if C_ansall[i]=='ใช่หรือไม่':\n",
        "      sum_word2=sum_word2+1\n",
        "\n",
        "#  //////////////////////////////////////////////////////////\n",
        "  yes_no=[]\n",
        "#for xi in range(0,len(arr)):\n",
        "  if sum_word2 ==1:\n",
        "      \n",
        "      yes_no.append(query)\n",
        "     # print(xp[j]['answer'])\n",
        "      #print(arr2[j])\n",
        "      yes_no.append(b[c])\n",
        "      # print(yes_no)\n",
        "      tfidf_yes_no = TfidfVectorizer()  #หา Tfidf\n",
        "      yes_no_matrix = tfidf_yes_no.fit_transform(yes_no) # ทำเวกเตอร์\n",
        "      cos_sim_yes_no=cosine_similarity(yes_no_matrix[0], yes_no_matrix)\n",
        "     # print(cos_sim_yes_no[0][1],j)\n",
        "      if cos_sim_yes_no[0][1] > 0.3:\n",
        "        answer = 'ใช่'\n",
        "        #v3.append(answer)\n",
        "       \n",
        "      else :\n",
        "        answer = 'ไม่ใช่'\n",
        "        #v3.append(answer)\n",
        "        \n",
        "# ///////////////////////////////////////////////////////////\n",
        "  if sum_word2 !=1 :\n",
        "    if ans_ans[0] != nn:\n",
        "      bc=ans_ans[:][0]\n",
        "      answer=bc[0]\n",
        "      \n",
        "    elif  ans_ans[0]==nn:\n",
        "      \n",
        "      word=['เป็น','คือ','ใน','ปี','วัน']\n",
        "      cut_word=Tokenizer(word)\n",
        "      c1 = b[c]\n",
        "      C_ans1 = cut_word.word_tokenize(c1)\n",
        "      C_ans_all = []\n",
        "      C_ans_all.append(C_ans1)\n",
        "      qq = word_tokenize(query)\n",
        "      l_qq = len(qq)\n",
        "      \n",
        "      for i in range(0,len(C_ans_all)):\n",
        "        for ii in range(0,l_qq):\n",
        "            if qq[ii]=='คือ' or qq[ii]=='เป็น':\n",
        "              for j in range(0,len(C_ans_all[i])):\n",
        "                  if C_ans_all[i][j]=='เป็น' or C_ans_all[i][j]=='คือ':\n",
        "                      x=C_ans_all[i][j+1]\n",
        "                      #print(x)\n",
        "                      qes_ans.append(x)\n",
        "      if len(qes_ans) == 1: \n",
        "        answer = qes_ans[0]\n",
        "      else  :\n",
        "        answer = b[c]\n",
        "    \n",
        "      # print(answer)\n",
        "      answer2=[]\n",
        "      if answer==answer2:\n",
        "         answer=b[c]\n",
        "      # print(answer)\n",
        "  d = [answer,query]\n",
        "  return render_template('index.html',data=d)\n",
        "if __name__ == \"__main__\":\n",
        "  app.run()"
      ],
      "execution_count": 0,
      "outputs": [
        {
          "output_type": "stream",
          "text": [
            " * Serving Flask app \"__main__\" (lazy loading)\n",
            " * Environment: production\n",
            "\u001b[31m   WARNING: This is a development server. Do not use it in a production deployment.\u001b[0m\n",
            "\u001b[2m   Use a production WSGI server instead.\u001b[0m\n",
            " * Debug mode: off\n"
          ],
          "name": "stdout"
        },
        {
          "output_type": "stream",
          "text": [
            " * Running on http://127.0.0.1:5000/ (Press CTRL+C to quit)\n"
          ],
          "name": "stderr"
        },
        {
          "output_type": "stream",
          "text": [
            " * Running on http://55d3d4d6.ngrok.io\n",
            " * Traffic stats available on http://127.0.0.1:4040\n"
          ],
          "name": "stdout"
        },
        {
          "output_type": "stream",
          "text": [
            "127.0.0.1 - - [25/Mar/2020 06:55:45] \"\u001b[37mGET / HTTP/1.1\u001b[0m\" 200 -\n",
            "127.0.0.1 - - [25/Mar/2020 06:55:56] \"\u001b[33mGET /favicon.ico HTTP/1.1\u001b[0m\" 404 -\n",
            "127.0.0.1 - - [25/Mar/2020 06:56:56] \"\u001b[37mPOST /addRegion HTTP/1.1\u001b[0m\" 200 -\n"
          ],
          "name": "stderr"
        },
        {
          "output_type": "stream",
          "text": [
            "['เอเลียนส์เป็นภาพยนตร์แนวไหน']\n",
            "เอเลียนส์เป็นภาพยนตร์แนวไหน\n"
          ],
          "name": "stdout"
        },
        {
          "output_type": "stream",
          "text": [
            "127.0.0.1 - - [25/Mar/2020 06:56:57] \"\u001b[37mPOST /addRegion HTTP/1.1\u001b[0m\" 200 -\n"
          ],
          "name": "stderr"
        },
        {
          "output_type": "stream",
          "text": [
            "['เอเลียนส์เป็นภาพยนตร์แนวไหน']\n",
            "เอเลียนส์เป็นภาพยนตร์แนวไหน\n"
          ],
          "name": "stdout"
        },
        {
          "output_type": "stream",
          "text": [
            "127.0.0.1 - - [25/Mar/2020 06:57:31] \"\u001b[37mGET /?fbclid=IwAR1B6w5Lqnta3xZaNsJ5OEKxDZLe1XqsDFALe0fZIDFnK5i_Z-YRO9TJkkQ HTTP/1.1\u001b[0m\" 200 -\n",
            "127.0.0.1 - - [25/Mar/2020 06:57:32] \"\u001b[33mGET /favicon.ico HTTP/1.1\u001b[0m\" 404 -\n",
            "127.0.0.1 - - [25/Mar/2020 07:06:18] \"\u001b[37mPOST /addRegion HTTP/1.1\u001b[0m\" 200 -\n"
          ],
          "name": "stderr"
        },
        {
          "output_type": "stream",
          "text": [
            "['ผู้แต่งวรรณคดีไทยเรื่องพระอภัยมณี', ' ', 'มีชื่อว่าอะไร', '  ']\n",
            "ผู้แต่งวรรณคดีไทยเรื่องพระอภัยมณี\n",
            " \n",
            "มีชื่อว่าอะไร\n",
            "  \n"
          ],
          "name": "stdout"
        },
        {
          "output_type": "stream",
          "text": [
            "127.0.0.1 - - [25/Mar/2020 07:26:02] \"\u001b[37mPOST /addRegion HTTP/1.1\u001b[0m\" 200 -\n"
          ],
          "name": "stderr"
        },
        {
          "output_type": "stream",
          "text": [
            "['เอเลียนส์เป็นภาพยนตร์แนวไหน']\n",
            "เอเลียนส์เป็นภาพยนตร์แนวไหน\n"
          ],
          "name": "stdout"
        }
      ]
    }
  ]
}